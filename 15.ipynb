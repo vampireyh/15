{
 "cells": [
  {
   "cell_type": "code",
   "execution_count": 24,
   "metadata": {},
   "outputs": [],
   "source": [
    "The output of above program is : [10, 20, 30, 42, 5, 8]"
   ]
  },
  {
   "cell_type": "code",
   "execution_count": 46,
   "metadata": {},
   "outputs": [
    {
     "name": "stdout",
     "output_type": "stream",
     "text": [
      "[10, 20, 30, 42, 5, 8]\n"
     ]
    }
   ],
   "source": [
    "def removeDup(li0):\n",
    "    lir=[]\n",
    "    s0=set()\n",
    "    for item in li0:\n",
    "        if item not in s0:\n",
    "            s0.add(item)\n",
    "            lir.append(item) \n",
    "    return lir\n",
    "l0 = [ 10, 20, 10, 30, 42, 5, 8, 20]\n",
    "print(removeDup(l0))\n"
   ]
  },
  {
   "cell_type": "code",
   "execution_count": 55,
   "metadata": {},
   "outputs": [
    {
     "name": "stdout",
     "output_type": "stream",
     "text": [
      "This Is A Test\n"
     ]
    }
   ],
   "source": [
    "sen='this is a test'\n",
    "\n",
    "def cap(sen):\n",
    "    words = sen.split()\n",
    "    return ' '.join([word.capitalize() for word in words])\n",
    "print(cap(sen))"
   ]
  },
  {
   "cell_type": "code",
   "execution_count": null,
   "metadata": {},
   "outputs": [],
   "source": []
  }
 ],
 "metadata": {
  "kernelspec": {
   "display_name": "Python 3",
   "language": "python",
   "name": "python3"
  },
  "language_info": {
   "codemirror_mode": {
    "name": "ipython",
    "version": 3
   },
   "file_extension": ".py",
   "mimetype": "text/x-python",
   "name": "python",
   "nbconvert_exporter": "python",
   "pygments_lexer": "ipython3",
   "version": "3.6.5"
  }
 },
 "nbformat": 4,
 "nbformat_minor": 2
}
